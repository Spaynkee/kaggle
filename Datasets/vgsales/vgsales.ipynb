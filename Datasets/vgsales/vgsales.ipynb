{
 "cells": [
  {
   "cell_type": "code",
   "execution_count": 1,
   "metadata": {},
   "outputs": [],
   "source": [
    "# Things I want to do:\n",
    "# Do some manip with pandas\n",
    "# Show some charts and graphs\n",
    "# split into train/test\n",
    "# train some models\n",
    "# evaluate performance?"
   ]
  },
  {
   "cell_type": "code",
   "execution_count": 7,
   "metadata": {},
   "outputs": [],
   "source": [
    "import pandas as pd\n",
    "from sklearn.linear_model import LinearRegression"
   ]
  },
  {
   "cell_type": "code",
   "execution_count": 59,
   "metadata": {},
   "outputs": [],
   "source": [
    "# read data\n",
    "data = pd.read_csv('vgsales.csv')\n",
    "data_oh = pd.get_dummies(data, columns=['Genre'])\n",
    "data_oh = pd.get_dummies(data_oh, columns=['Platform'])\n",
    "data_oh = data_oh.drop(columns=['NA_Sales', 'JP_Sales', 'EU_Sales', 'Other_Sales', 'Rank', 'Year'])\n",
    "#data_oh = data_oh.drop(columns=['Publisher']) # Maybe if we want to oh encode this too?"
   ]
  },
  {
   "cell_type": "code",
   "execution_count": 66,
   "metadata": {},
   "outputs": [
    {
     "data": {
      "text/plain": [
       "Global_Sales      1.000000\n",
       "Platform_GB       0.102553\n",
       "Platform_NES      0.100338\n",
       "Genre_Platform    0.061223\n",
       "Genre_Shooter     0.047899\n",
       "Platform_X360     0.043821\n",
       "Platform_PS3      0.034774\n",
       "Platform_Wii      0.030679\n",
       "Platform_PS4      0.026829\n",
       "Platform_SNES     0.023287\n",
       "Name: Global_Sales, dtype: float64"
      ]
     },
     "execution_count": 66,
     "metadata": {},
     "output_type": "execute_result"
    }
   ],
   "source": [
    "# examine data\n",
    "#data_oh.info()\n",
    "data_oh.corr()['Global_Sales'].sort_values(ascending=False)[:10]\n",
    "#data_oh.corr()['Global_Sales'].sort_values()[:10]"
   ]
  },
  {
   "cell_type": "code",
   "execution_count": 39,
   "metadata": {
    "collapsed": true
   },
   "outputs": [
    {
     "data": {
      "text/plain": [
       "array(['Nintendo', 'Microsoft Game Studios', 'Take-Two Interactive',\n",
       "       'Sony Computer Entertainment', 'Activision', 'Ubisoft',\n",
       "       'Bethesda Softworks', 'Electronic Arts', 'Sega', 'SquareSoft',\n",
       "       'Atari', '505 Games', 'Capcom', 'GT Interactive',\n",
       "       'Konami Digital Entertainment',\n",
       "       'Sony Computer Entertainment Europe', 'Square Enix', 'LucasArts',\n",
       "       'Virgin Interactive', 'Warner Bros. Interactive Entertainment',\n",
       "       'Universal Interactive', 'Eidos Interactive', 'RedOctane',\n",
       "       'Vivendi Games', 'Enix Corporation', 'Namco Bandai Games',\n",
       "       'Palcom', 'Hasbro Interactive', 'THQ', 'Fox Interactive',\n",
       "       'Acclaim Entertainment', 'MTV Games', 'Disney Interactive Studios',\n",
       "       nan, 'Majesco Entertainment', 'Codemasters', 'Red Orb', 'Level 5',\n",
       "       'Arena Entertainment', 'Midway Games', 'JVC', 'Deep Silver',\n",
       "       '989 Studios', 'NCSoft', 'UEP Systems', 'Parker Bros.', 'Maxis',\n",
       "       'Imagic', 'Tecmo Koei', 'Valve Software', 'ASCII Entertainment',\n",
       "       'Mindscape', 'Infogrames', 'Unknown', 'Square', 'Valve',\n",
       "       'Activision Value', 'Banpresto', 'D3Publisher',\n",
       "       'Oxygen Interactive', 'Red Storm Entertainment', 'Video System',\n",
       "       'Hello Games', 'Global Star', 'Gotham Games', 'Westwood Studios',\n",
       "       'GungHo', 'Crave Entertainment', 'Hudson Soft', 'Coleco',\n",
       "       'Rising Star Games', 'Atlus', 'TDK Mediactive', 'ASC Games',\n",
       "       'Zoo Games', 'Accolade', 'Sony Online Entertainment', '3DO', 'RTL',\n",
       "       'Natsume', 'Focus Home Interactive', 'Alchemist',\n",
       "       'Black Label Games', 'SouthPeak Games', 'Mastertronic', 'Ocean',\n",
       "       'Zoo Digital Publishing', 'Psygnosis', 'City Interactive',\n",
       "       'Empire Interactive', 'Success', 'Compile', 'Russel', 'Taito',\n",
       "       'Agetec', 'GSP', 'Microprose', 'Play It', 'Slightly Mad Studios',\n",
       "       'Tomy Corporation', 'Sammy Corporation', 'Koch Media',\n",
       "       'Game Factory', 'Titus', 'Marvelous Entertainment', 'Genki',\n",
       "       'Mojang', 'Pinnacle', 'CTO SpA', 'TalonSoft', 'Crystal Dynamics',\n",
       "       'SCi', 'Quelle', 'mixi, Inc', 'Rage Software', 'Ubisoft Annecy',\n",
       "       'Scholastic Inc.', 'Interplay', 'Mystique', 'ChunSoft',\n",
       "       'Square EA', '20th Century Fox Video Games', 'Avanquest Software',\n",
       "       'Hudson Entertainment', 'Nordic Games', 'Men-A-Vision', 'Nobilis',\n",
       "       'Big Ben Interactive', 'Touchstone', 'Spike', 'Jester Interactive',\n",
       "       'Nippon Ichi Software', 'LEGO Media', 'Quest',\n",
       "       'Illusion Softworks', 'Tigervision', 'Funbox Media',\n",
       "       'Rocket Company', 'Metro 3D', 'Mattel Interactive', 'IE Institute',\n",
       "       'Rondomedia', 'Sony Computer Entertainment America',\n",
       "       'Universal Gamex', 'Ghostlight', 'Wizard Video Games',\n",
       "       'BMG Interactive Entertainment', 'PQube', 'Trion Worlds', 'Laguna',\n",
       "       'Ignition Entertainment', 'Takara', 'Kadokawa Shoten', 'Destineer',\n",
       "       'Enterbrain', 'Xseed Games', 'Imagineer',\n",
       "       'System 3 Arcade Software', 'CPG Products', 'Aruze Corp',\n",
       "       'Gamebridge', 'Midas Interactive Entertainment', 'Jaleco',\n",
       "       'Answer Software', 'XS Games', 'Activision Blizzard',\n",
       "       'Pack In Soft', 'Rebellion', 'Xplosiv', 'Ultravision',\n",
       "       'GameMill Entertainment', 'Wanadoo', 'NovaLogic', 'Telltale Games',\n",
       "       'Epoch', 'BAM! Entertainment', 'Knowledge Adventure', 'Mastiff',\n",
       "       'Tetris Online', 'Harmonix Music Systems', 'ESP', 'TYO',\n",
       "       'Telegames', 'Mud Duck Productions', 'Screenlife', 'Pioneer LDC',\n",
       "       'Magical Company', 'Mentor Interactive', 'Kemco',\n",
       "       'Human Entertainment', 'Avanquest', 'Data Age',\n",
       "       'Electronic Arts Victor', 'Black Bean Games', 'Jack of All Games',\n",
       "       '989 Sports', 'Takara Tomy', 'Media Rings', 'Elf', 'Kalypso Media',\n",
       "       'Starfish', 'Zushi Games', 'Jorudan', 'Destination Software, Inc',\n",
       "       'New', 'Brash Entertainment', 'ITT Family Games', 'PopCap Games',\n",
       "       'Home Entertainment Suppliers', 'Ackkstudios', 'Starpath Corp.',\n",
       "       'P2 Games', 'BPS', 'Gathering of Developers', 'NewKidCo',\n",
       "       'Storm City Games', 'CokeM Interactive', 'CBS Electronics',\n",
       "       'Magix', 'Marvelous Interactive', 'Nihon Falcom Corporation',\n",
       "       'Wargaming.net', 'Angel Studios', 'Arc System Works', 'Playmates',\n",
       "       'SNK Playmore', 'Hamster Corporation', 'From Software',\n",
       "       'Nippon Columbia', 'Nichibutsu', 'Little Orbit',\n",
       "       'Conspiracy Entertainment', 'DTP Entertainment', 'Hect',\n",
       "       'Mumbo Jumbo', 'Pacific Century Cyber Works', 'Indie Games',\n",
       "       'Liquid Games', 'NEC', 'Axela', 'ArtDink', 'Sunsoft', 'Gust',\n",
       "       'SNK', 'NEC Interchannel', 'FuRyu', 'Xing Entertainment',\n",
       "       'ValuSoft', 'Victor Interactive', 'Detn8 Games',\n",
       "       'American Softworks', 'Nordcurrent', 'Bomb', 'Falcom Corporation',\n",
       "       'AQ Interactive', 'CCP', 'Milestone S.r.l.', 'Sears',\n",
       "       'JoWood Productions', 'Seta Corporation', 'On Demand', 'NCS',\n",
       "       'Aspyr', 'Gremlin Interactive Ltd', 'Agatsuma Entertainment',\n",
       "       'Compile Heart', 'Culture Brain', 'Mad Catz', 'Shogakukan',\n",
       "       'Merscom LLC', 'Rebellion Developments', 'Nippon Telenet',\n",
       "       'TDK Core', 'bitComposer Games', 'Foreign Media Games', 'Astragon',\n",
       "       'SSI', 'Kadokawa Games', 'Idea Factory',\n",
       "       'Performance Designed Products', 'Asylum Entertainment',\n",
       "       'Core Design Ltd.', 'PlayV', 'UFO Interactive',\n",
       "       'Idea Factory International', 'Playlogic Game Factory',\n",
       "       'Essential Games', 'Adeline Software', 'Funcom',\n",
       "       'Panther Software', 'Blast! Entertainment Ltd', 'Game Life',\n",
       "       'DSI Games', 'Avalon Interactive', 'Popcorn Arcade',\n",
       "       'Neko Entertainment', 'Vir2L Studios', 'Aques', 'Syscom',\n",
       "       'White Park Bay Software', 'System 3', 'Vatical Entertainment',\n",
       "       'Daedalic', 'EA Games', 'Media Factory', 'Vic Tokai',\n",
       "       'The Adventure Company', 'Game Arts', 'Broccoli', 'Acquire',\n",
       "       'General Entertainment', 'Excalibur Publishing', 'Imadio',\n",
       "       'Swing! Entertainment', 'Sony Music Entertainment', 'Aqua Plus',\n",
       "       'Paradox Interactive', 'Hip Interactive',\n",
       "       'DreamCatcher Interactive', 'Tripwire Interactive', 'Sting',\n",
       "       'Yacht Club Games', 'SCS Software', 'Bigben Interactive',\n",
       "       'Havas Interactive', 'Slitherine Software', 'Graffiti', 'Funsta',\n",
       "       'Telstar', 'U.S. Gold', 'DreamWorks Interactive',\n",
       "       'Data Design Interactive', 'MTO', 'DHM Interactive', 'FunSoft',\n",
       "       'SPS', 'Bohemia Interactive', 'Reef Entertainment',\n",
       "       'Tru Blu Entertainment', 'Moss', 'T&E Soft', 'O-Games',\n",
       "       'Aksys Games', 'NDA Productions', 'Data East',\n",
       "       'Time Warner Interactive', 'Gainax Network Systems', 'Daito',\n",
       "       'O3 Entertainment', 'Gameloft', 'Xicat Interactive',\n",
       "       'Simon & Schuster Interactive', 'Valcon Games', 'PopTop Software',\n",
       "       'TOHO', 'HMH Interactive', '5pb', 'Cave',\n",
       "       'CDV Software Entertainment', 'Microids', 'PM Studios', 'Paon',\n",
       "       'Micro Cabin', 'GameTek', 'Benesse', 'Type-Moon',\n",
       "       'Enjoy Gaming ltd.', 'Asmik Corp', 'Interplay Productions',\n",
       "       'Asmik Ace Entertainment', 'inXile Entertainment', 'Image Epoch',\n",
       "       'Phantom EFX', 'Evolved Games', 'responDESIGN',\n",
       "       'Culture Publishers', 'Griffin International', 'Hackberry',\n",
       "       'Hearty Robin', 'Nippon Amuse', 'Origin Systems', 'Seventh Chord',\n",
       "       'Mitsui', 'Milestone', 'Abylight', 'Flight-Plan', 'Glams', 'Locus',\n",
       "       'Warp', 'Daedalic Entertainment', 'Alternative Software',\n",
       "       'Myelin Media', 'Mercury Games', 'Irem Software Engineering',\n",
       "       'Sunrise Interactive', 'Elite', 'Evolution Games', 'Tivola',\n",
       "       'Global A Entertainment', 'Edia', 'Athena', 'Aria', 'Gamecock',\n",
       "       'Tommo', 'Altron', 'Happinet', 'iWin', 'Media Works', 'Fortyfive',\n",
       "       'Revolution Software', 'Imax', 'Crimson Cow', '10TACLE Studios',\n",
       "       'Groove Games', 'Pack-In-Video', 'Insomniac Games',\n",
       "       'Ascaron Entertainment GmbH', 'Asgard', 'Ecole', 'Yumedia',\n",
       "       'Phenomedia', 'HAL Laboratory', 'Grand Prix Games', 'DigiCube',\n",
       "       'Creative Core', 'Kaga Create', 'WayForward Technologies',\n",
       "       'LSP Games', 'ASCII Media Works', 'Coconuts Japan', 'Arika',\n",
       "       'Ertain', 'Marvel Entertainment', 'Prototype',\n",
       "       'TopWare Interactive', 'Phantagram', '1C Company',\n",
       "       'The Learning Company', 'TechnoSoft', 'Vap', 'Misawa', 'Tradewest',\n",
       "       'Team17 Software', 'Yeti', 'Pow', 'Navarre Corp', 'MediaQuest',\n",
       "       'Max Five', 'Comfort', 'Monte Christo Multimedia', 'Pony Canyon',\n",
       "       'Riverhillsoft', 'Summitsoft', 'Milestone S.r.l', 'Playmore',\n",
       "       'MLB.com', 'Kool Kizz', 'Flashpoint Games', '49Games',\n",
       "       'Legacy Interactive', 'Alawar Entertainment', 'CyberFront',\n",
       "       'Cloud Imperium Games Corporation', 'Societa',\n",
       "       'Virtual Play Games', 'Interchannel', 'Sonnet', 'Experience Inc.',\n",
       "       'Zenrin', 'Iceberg Interactive', 'Ivolgamus', '2D Boy',\n",
       "       'MC2 Entertainment', 'Kando Games', 'Just Flight', 'Office Create',\n",
       "       'Mamba Games', 'Fields', 'Princess Soft', 'Maximum Family Games',\n",
       "       'Berkeley', 'Fuji', 'Dusenberry Martin Racing', 'imageepoch Inc.',\n",
       "       'Big Fish Games', 'Her Interactive', 'Kamui', 'ASK',\n",
       "       'Headup Games', 'KSS', 'Cygames', 'KID', 'Quinrose', 'Sunflowers',\n",
       "       'dramatic create', 'TGL', 'Encore', 'Extreme Entertainment Group',\n",
       "       'Intergrow', 'G.Rev', 'Sweets', 'Kokopeli Digital Studios',\n",
       "       'Number None', 'Nexon', 'id Software', 'BushiRoad', 'Tryfirst',\n",
       "       'Strategy First', '7G//AMES', 'GN Software', \"Yuke's\",\n",
       "       'Easy Interactive', 'Licensed 4U', 'FuRyu Corporation',\n",
       "       'Lexicon Entertainment', 'Paon Corporation', 'Kids Station', 'GOA',\n",
       "       'Graphsim Entertainment', 'King Records', 'Introversion Software',\n",
       "       'Minato Station', 'Devolver Digital', 'Blue Byte', 'Gaga',\n",
       "       'Yamasa Entertainment', 'Plenty', 'Views', 'fonfun', 'NetRevo',\n",
       "       'Codemasters Online', 'Quintet', 'Phoenix Games', 'Dorart',\n",
       "       'Marvelous Games', 'Focus Multimedia', 'Imageworks',\n",
       "       'Karin Entertainment', 'Aerosoft', 'Technos Japan Corporation',\n",
       "       'Gakken', 'Mirai Shounen', 'Datam Polystar', 'Saurus', 'HuneX',\n",
       "       'Revolution (Japan)', 'Giza10', 'Visco', 'Alvion', 'Mycom', 'Giga',\n",
       "       'Warashi', 'System Soft', 'Sold Out', 'Lighthouse Interactive',\n",
       "       'Masque Publishing', 'RED Entertainment', 'Michaelsoft',\n",
       "       'Media Entertainment', 'New World Computing', 'Genterprise',\n",
       "       'Interworks Unlimited, Inc.', 'Boost On', 'Stainless Games',\n",
       "       'EON Digital Entertainment', 'Epic Games', 'Naxat Soft',\n",
       "       'Ascaron Entertainment', 'Piacci', 'Nitroplus',\n",
       "       'Paradox Development', 'Otomate', 'Ongakukan', 'Commseed',\n",
       "       'Inti Creates', 'Takuyo', 'Interchannel-Holon', 'Rain Games',\n",
       "       'UIG Entertainment'], dtype=object)"
      ]
     },
     "execution_count": 39,
     "metadata": {},
     "output_type": "execute_result"
    }
   ],
   "source": [
    "data_oh['Publisher'].unique()\n",
    "# jeebus, maybe there's a world in which I dummy these too, idk."
   ]
  },
  {
   "cell_type": "code",
   "execution_count": null,
   "metadata": {},
   "outputs": [],
   "source": []
  },
  {
   "cell_type": "code",
   "execution_count": null,
   "metadata": {},
   "outputs": [],
   "source": [
    "# split data"
   ]
  },
  {
   "cell_type": "code",
   "execution_count": null,
   "metadata": {},
   "outputs": [],
   "source": [
    "# create model"
   ]
  },
  {
   "cell_type": "code",
   "execution_count": null,
   "metadata": {},
   "outputs": [],
   "source": [
    "# train model"
   ]
  },
  {
   "cell_type": "code",
   "execution_count": null,
   "metadata": {},
   "outputs": [],
   "source": [
    "# evaluate model"
   ]
  }
 ],
 "metadata": {
  "kernelspec": {
   "display_name": "Python 3",
   "language": "python",
   "name": "python3"
  },
  "language_info": {
   "codemirror_mode": {
    "name": "ipython",
    "version": 3
   },
   "file_extension": ".py",
   "mimetype": "text/x-python",
   "name": "python",
   "nbconvert_exporter": "python",
   "pygments_lexer": "ipython3",
   "version": "3.6.10"
  }
 },
 "nbformat": 4,
 "nbformat_minor": 4
}
