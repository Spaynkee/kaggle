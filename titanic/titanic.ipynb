{
 "cells": [
  {
   "cell_type": "code",
   "execution_count": null,
   "metadata": {},
   "outputs": [],
   "source": [
    "# current submission is .78\n",
    "# Things I'd like to do:\n",
    "    # Hyper Parameters for Linear Regression and Random Forest?\n",
    "    # Can we use the cabin column in a meaningful way for rows that have that?\n",
    "    # find other ways to handle NaN Age?\n",
    "import pandas as pd\n",
    "from sklearn.linear_model import LinearRegression\n",
    "from sklearn.preprocessing import OneHotEncoder, minmax_scale\n",
    "from sklearn.tree import DecisionTreeRegressor\n",
    "from sklearn.ensemble import RandomForestRegressor\n",
    "from sklearn.neighbors import KNeighborsClassifier"
   ]
  },
  {
   "cell_type": "code",
   "execution_count": null,
   "metadata": {},
   "outputs": [],
   "source": [
    "#!kaggle competitions download -c titanic\n",
    "#!kaggle datasets download -d zynicide/wine-reviews # Use this to get data if you want it."
   ]
  },
  {
   "cell_type": "code",
   "execution_count": null,
   "metadata": {},
   "outputs": [],
   "source": [
    "og_df = pd.read_csv('./data/train.csv', engine='python')\n",
    "og_df"
   ]
  },
  {
   "cell_type": "code",
   "execution_count": null,
   "metadata": {},
   "outputs": [],
   "source": [
    "# just rounds the models prediction to 0 or 1.\n",
    "def get_model_val(df_row, model):\n",
    "    if(model.predict([df_row])[0] > .5):\n",
    "        return 1\n",
    "    else:\n",
    "        return 0\n",
    "\n",
    "def clean_data(df):\n",
    "    # Transformations here.\n",
    "    new_df = df.copy() \n",
    "    new_df = new_df.drop(columns=['Name', 'Ticket', 'Cabin'])\n",
    "\n",
    "    new_df['Age'] = new_df['Age'].fillna(new_df.Age.median())\n",
    "\n",
    "    new_df = pd.get_dummies(new_df, columns=['Sex', 'Embarked', 'Pclass'])\n",
    "    new_df = pd.DataFrame(minmax_scale(new_df), columns=new_df.columns)\n",
    "\n",
    "    return new_df\n"
   ]
  },
  {
   "cell_type": "code",
   "execution_count": null,
   "metadata": {
    "scrolled": true
   },
   "outputs": [],
   "source": [
    "df = clean_data(og_df)\n",
    "df_passenger_id = og_df['PassengerId'].copy()\n",
    "df_labels = df['Survived'].copy()\n",
    "corr_matrix = df.corr()\n",
    "df = df.drop(columns=['Survived', 'PassengerId'])"
   ]
  },
  {
   "cell_type": "code",
   "execution_count": null,
   "metadata": {},
   "outputs": [],
   "source": [
    "corr_matrix['Survived'].sort_values(ascending=False)"
   ]
  },
  {
   "cell_type": "code",
   "execution_count": null,
   "metadata": {},
   "outputs": [],
   "source": [
    "lin_reg = LinearRegression()\n",
    "lin_reg.fit(df,df_labels)\n",
    "model = lin_reg\n",
    "lin_reg.predict([df.iloc[1]])[0] # sanity check"
   ]
  },
  {
   "cell_type": "code",
   "execution_count": null,
   "metadata": {
    "scrolled": true
   },
   "outputs": [],
   "source": [
    "tree_reg = DecisionTreeRegressor()\n",
    "tree_reg.fit(df, df_labels)\n",
    "model = tree_reg\n",
    "tree_reg.predict([df.iloc[1]])[0] # sanity check"
   ]
  },
  {
   "cell_type": "code",
   "execution_count": null,
   "metadata": {},
   "outputs": [],
   "source": [
    "forest_reg = RandomForestRegressor()\n",
    "forest_reg.fit(df, df_labels)\n",
    "model = forest_reg\n",
    "forest_reg.predict([df.iloc[1]])[0] # sanity check"
   ]
  },
  {
   "cell_type": "code",
   "execution_count": null,
   "metadata": {},
   "outputs": [],
   "source": [
    "knn = KNeighborsClassifier(n_neighbors=4) # can play with this a bit.\n",
    "knn.fit(df,df_labels)\n",
    "model = knn\n",
    "knn.predict([df.iloc[1]])[0] # sanity check"
   ]
  },
  {
   "cell_type": "code",
   "execution_count": null,
   "metadata": {},
   "outputs": [],
   "source": [
    "tr_og_df = pd.read_csv('./data/test.csv', engine='python')\n",
    "tr_df_passengerId = tr_og_df['PassengerId'].copy()\n",
    "tr_df = clean_data(tr_og_df)\n",
    "tr_df['Fare'] = tr_df['Fare'].fillna(tr_df.Fare.median())\n",
    "tr_df = tr_df.drop(columns=['PassengerId'])\n",
    "tr_df['Survived'] = tr_df.apply(lambda row: get_model_val(row, model), axis=1)"
   ]
  },
  {
   "cell_type": "code",
   "execution_count": null,
   "metadata": {},
   "outputs": [],
   "source": [
    "final_df = pd.DataFrame(list(zip(tr_df_passengerId, tr_df['Survived'])),columns=['PassengerId', 'Survived'])"
   ]
  },
  {
   "cell_type": "code",
   "execution_count": null,
   "metadata": {},
   "outputs": [],
   "source": [
    "final_df.to_csv('output.csv', index=False)\n",
    "#!kaggle competitions submit -c titanic -f ./output.csv\n",
    "#final_df = final_df.drop([417], axis=\"index\") # We have to do this before testing for some reason."
   ]
  },
  {
   "cell_type": "code",
   "execution_count": null,
   "metadata": {},
   "outputs": [],
   "source": [
    "ans_df = pd.read_csv('./data/answers.csv', engine='python')\n",
    "ans_df = ans_df.rename({1: 'PassengerId', 2:'Survived'}, axis='columns')\n",
    "ans_df.drop(ans_df.index[0:892], inplace=True)"
   ]
  },
  {
   "cell_type": "code",
   "execution_count": null,
   "metadata": {},
   "outputs": [],
   "source": [
    "# For local testing so I don't have to submit all the time.\n",
    "correct = 0\n",
    "total = 0 \n",
    "for index, row in final_df.iterrows():\n",
    "    if ans_df.loc()[row['PassengerId']]['survived'] == row['Survived']:\n",
    "        correct = correct +1\n",
    "    total += 1 \n",
    "print(\"{} out of {} for a % of {}\".format(correct, total, correct/total))"
   ]
  }
 ],
 "metadata": {
  "kernelspec": {
   "display_name": "Python 3",
   "language": "python",
   "name": "python3"
  },
  "language_info": {
   "codemirror_mode": {
    "name": "ipython",
    "version": 3
   },
   "file_extension": ".py",
   "mimetype": "text/x-python",
   "name": "python",
   "nbconvert_exporter": "python",
   "pygments_lexer": "ipython3",
   "version": "3.6.10"
  }
 },
 "nbformat": 4,
 "nbformat_minor": 2
}
