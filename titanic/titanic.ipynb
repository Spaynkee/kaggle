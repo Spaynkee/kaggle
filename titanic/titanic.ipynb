{
 "cells": [
  {
   "cell_type": "code",
   "execution_count": null,
   "metadata": {},
   "outputs": [],
   "source": [
    "# current submission is .79\n",
    "# Things I'd like to do:\n",
    "    # try unsupervised ML?\n",
    "    # Try a NN or reinforcement or something?\n",
    "    # Learn how to plot data and make charts?\n",
    "    # Can we use the cabin column in a meaningful way for rows that have that?\n",
    "    # find other ways to handle NaN Age?\n",
    "import pandas as pd\n",
    "from sklearn.linear_model import LinearRegression, Ridge, Lasso, LogisticRegression\n",
    "from sklearn.svm import LinearSVC\n",
    "from sklearn.preprocessing import OneHotEncoder, minmax_scale\n",
    "from sklearn.tree import DecisionTreeRegressor\n",
    "from sklearn.ensemble import RandomForestRegressor\n",
    "from sklearn.neighbors import KNeighborsClassifier\n",
    "from sklearn.model_selection import RandomizedSearchCV"
   ]
  },
  {
   "cell_type": "code",
   "execution_count": null,
   "metadata": {},
   "outputs": [],
   "source": [
    "#!kaggle competitions download -c titanic\n",
    "#!kaggle datasets download -d zynicide/wine-reviews # Use this to get data if you want it."
   ]
  },
  {
   "cell_type": "code",
   "execution_count": null,
   "metadata": {},
   "outputs": [],
   "source": [
    "og_df = pd.read_csv('./data/train.csv', engine='python')\n",
    "og_df"
   ]
  },
  {
   "cell_type": "code",
   "execution_count": null,
   "metadata": {},
   "outputs": [],
   "source": [
    "# just rounds the models prediction to 0 or 1.\n",
    "def get_model_val(df_row, model):\n",
    "    if(model.predict([df_row])[0] > .5):\n",
    "        return 1\n",
    "    else:\n",
    "        return 0\n",
    "\n",
    "def clean_data(df):\n",
    "    # Transformations here.\n",
    "    new_df = df.copy() \n",
    "    new_df = new_df.drop(columns=['Name', 'Ticket', 'Cabin'])\n",
    "\n",
    "    new_df['Age'] = new_df['Age'].fillna(new_df.Age.median())\n",
    "\n",
    "    new_df = pd.get_dummies(new_df, columns=['Sex', 'Embarked', 'Pclass'])\n",
    "    new_df = pd.DataFrame(minmax_scale(new_df), columns=new_df.columns)\n",
    "\n",
    "    return new_df\n",
    "\n",
    "def test_data(test_df, ans_df):\n",
    "    # For local testing so I don't have to submit all the time.\n",
    "    correct = 0\n",
    "    total = 0 \n",
    "    for index, row in test_df.iterrows():\n",
    "        if row['PassengerId'] in ans_df['PassengerId'].values:\n",
    "            if ans_df.loc()[ans_df['PassengerId'] == row['PassengerId']].iloc[0]['Survived'] == row['Survived']:\n",
    "                correct = correct +1\n",
    "        total += 1 \n",
    "    return \"{} out of {} for a % of {}\".format(correct, total, correct/total)"
   ]
  },
  {
   "cell_type": "code",
   "execution_count": null,
   "metadata": {
    "scrolled": true
   },
   "outputs": [],
   "source": [
    "df = clean_data(og_df)\n",
    "df_passenger_id = og_df['PassengerId'].copy()\n",
    "df_labels = df['Survived'].copy()\n",
    "corr_matrix = df.corr()\n",
    "df = df.drop(columns=['Survived', 'PassengerId'])"
   ]
  },
  {
   "cell_type": "code",
   "execution_count": null,
   "metadata": {},
   "outputs": [],
   "source": [
    "corr_matrix['Survived'].sort_values(ascending=False)"
   ]
  },
  {
   "cell_type": "code",
   "execution_count": null,
   "metadata": {},
   "outputs": [],
   "source": [
    "lin_reg = LinearRegression()\n",
    "lin_reg.fit(df,df_labels)\n",
    "model = lin_reg\n",
    "lin_reg.predict([df.iloc[1]])[0] # sanity check"
   ]
  },
  {
   "cell_type": "code",
   "execution_count": null,
   "metadata": {},
   "outputs": [],
   "source": [
    "log_reg = LogisticRegression(C=.01)\n",
    "log_reg.fit(df,df_labels)\n",
    "model = log_reg\n",
    "log_reg.predict([df.iloc[1]])[0] # sanity check"
   ]
  },
  {
   "cell_type": "code",
   "execution_count": null,
   "metadata": {},
   "outputs": [],
   "source": [
    "rid_reg = Ridge()\n",
    "rid_reg.fit(df,df_labels)\n",
    "model = rid_reg\n",
    "rid_reg.predict([df.iloc[1]])[0] # sanity check"
   ]
  },
  {
   "cell_type": "code",
   "execution_count": null,
   "metadata": {},
   "outputs": [],
   "source": [
    "las_reg = Lasso(alpha=.001, max_iter=100)\n",
    "las_reg.fit(df,df_labels)\n",
    "model = las_reg\n",
    "las_reg.predict([df.iloc[1]])[0] # sanity check"
   ]
  },
  {
   "cell_type": "code",
   "execution_count": null,
   "metadata": {
    "scrolled": true
   },
   "outputs": [],
   "source": [
    "tree_reg = DecisionTreeRegressor(max_depth=6)\n",
    "tree_reg.fit(df, df_labels)\n",
    "model = tree_reg\n",
    "tree_reg.predict([df.iloc[1]])[0] # sanity check"
   ]
  },
  {
   "cell_type": "code",
   "execution_count": null,
   "metadata": {},
   "outputs": [],
   "source": [
    "forest_reg = RandomForestRegressor()\n",
    "#forest_reg.fit(df, df_labels)\n",
    "#model = forest_reg\n",
    "#forest_reg.predict([df.iloc[1]])[0] # sanity check\n",
    "\n",
    "# hyper parameter optimization\n",
    "param_grid = {'bootstrap': [True, False],\n",
    " 'max_depth': [4, 6, 8, 10, None],\n",
    " 'max_features': ['auto', 'sqrt'],\n",
    " 'min_samples_leaf': [1, 2],\n",
    " 'min_samples_split': [2, 5],\n",
    " 'n_estimators': [200, 400, 600, 800, 1000]}\n",
    "\n",
    "r_search = RandomizedSearchCV(forest_reg, cv=5, param_distributions=param_grid, scoring='neg_mean_squared_error',\n",
    "                            n_iter=25, verbose=2, n_jobs=-1)\n",
    "r_search.fit(df, df_labels)\n",
    "r_search.predict([df.iloc[1]])[0]"
   ]
  },
  {
   "cell_type": "code",
   "execution_count": null,
   "metadata": {},
   "outputs": [],
   "source": [
    "model = r_search\n",
    "r_search.best_params_"
   ]
  },
  {
   "cell_type": "code",
   "execution_count": null,
   "metadata": {},
   "outputs": [],
   "source": [
    "knn = KNeighborsClassifier(n_neighbors=2) # can play with this a bit.\n",
    "knn.fit(df,df_labels)\n",
    "model = knn\n",
    "knn.predict([df.iloc[1]])[0] # sanity check"
   ]
  },
  {
   "cell_type": "code",
   "execution_count": null,
   "metadata": {},
   "outputs": [],
   "source": [
    "tr_og_df = pd.read_csv('./data/test.csv', engine='python')\n",
    "tr_df_passengerId = tr_og_df['PassengerId'].copy()\n",
    "tr_df = clean_data(tr_og_df)\n",
    "tr_df['Fare'] = tr_df['Fare'].fillna(tr_df.Fare.median())\n",
    "tr_df = tr_df.drop(columns=['PassengerId'])\n",
    "tr_df['Survived'] = tr_df.apply(lambda row: get_model_val(row, model), axis=1)\n",
    "final_df = pd.DataFrame(list(zip(tr_df_passengerId, tr_df['Survived'])),columns=['PassengerId', 'Survived'])"
   ]
  },
  {
   "cell_type": "code",
   "execution_count": null,
   "metadata": {},
   "outputs": [],
   "source": [
    "final_df.to_csv('output_hpo_rf.csv', index=False)\n",
    "#!kaggle competitions submit -c titanic -f ./output.csv"
   ]
  },
  {
   "cell_type": "code",
   "execution_count": null,
   "metadata": {},
   "outputs": [],
   "source": [
    "ans_df = pd.read_csv('./data/answers.csv', engine='python')\n",
    "ans_df = ans_df.rename({1: 'PassengerId', 2:'Survived'}, axis='columns')\n",
    "\n",
    "test_df = tr_og_df.merge(ans_df, left_on=\"Name\", right_on=\"name\")\n",
    "test_df_only_survived = test_df[['survived', 'PassengerId']].copy()\n",
    "test_df_only = test_df_only_survived.rename({'survived': 'Survived'}, axis='columns')\n",
    "ans_df = test_df_only\n",
    "ans_df = ans_df.drop(1) # Something weird happens and we have to drop this one.\n",
    "print(test_data(final_df, ans_df))\n",
    "#ans_df = ans_df[ans_df['name'] == tr_og_df['Name']]\n",
    "\n",
    "#ans_df.drop(ans_df.index[0:892], inplace=True) # We can't do this as test is not sorted.\n",
    "#final_df = final_df.drop([417], axis=\"index\") # We have to do this before testing for some reason."
   ]
  },
  {
   "cell_type": "code",
   "execution_count": null,
   "metadata": {},
   "outputs": [],
   "source": [
    "best_params = {'n_estimators': 1000,\n",
    " 'min_samples_split': 2,\n",
    " 'min_samples_leaf': 4,\n",
    " 'max_features': 'sqrt',\n",
    " 'max_depth': 90,\n",
    " 'bootstrap': False}\n",
    "score = "
   ]
  }
 ],
 "metadata": {
  "kernelspec": {
   "display_name": "Python 3",
   "language": "python",
   "name": "python3"
  },
  "language_info": {
   "codemirror_mode": {
    "name": "ipython",
    "version": 3
   },
   "file_extension": ".py",
   "mimetype": "text/x-python",
   "name": "python",
   "nbconvert_exporter": "python",
   "pygments_lexer": "ipython3",
   "version": "3.6.10"
  }
 },
 "nbformat": 4,
 "nbformat_minor": 2
}
