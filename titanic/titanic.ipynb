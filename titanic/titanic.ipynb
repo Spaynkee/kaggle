{
 "cells": [
  {
   "cell_type": "code",
   "execution_count": 17,
   "metadata": {},
   "outputs": [],
   "source": [
    "# current submission is .79\n",
    "# Things I'd like to do:\n",
    "    # try unsupervised ML?\n",
    "    # Try a NN or reinforcement or something?\n",
    "    # Learn how to plot data and make charts?\n",
    "    # Can we use the cabin column in a meaningful way for rows that have that?\n",
    "    # find other ways to handle NaN Age?\n",
    "    \n",
    "import pandas as pd\n",
    "from sklearn.linear_model import LogisticRegression\n",
    "from sklearn.svm import LinearSVC\n",
    "from sklearn.preprocessing import OneHotEncoder, minmax_scale\n",
    "from sklearn.tree import DecisionTreeClassifier\n",
    "from sklearn.ensemble import RandomForestClassifier, GradientBoostingClassifier\n",
    "from sklearn.neighbors import KNeighborsClassifier\n",
    "from sklearn.model_selection import RandomizedSearchCV, train_test_split\n",
    "from sklearn.metrics import mean_squared_error"
   ]
  },
  {
   "cell_type": "code",
   "execution_count": 2,
   "metadata": {},
   "outputs": [],
   "source": [
    "#!kaggle competitions download -c titanic\n",
    "#!kaggle datasets download -d zynicide/wine-reviews # Use this to get data if you want it."
   ]
  },
  {
   "cell_type": "code",
   "execution_count": 3,
   "metadata": {},
   "outputs": [],
   "source": [
    "df = pd.read_csv('./data/train.csv', engine='python')"
   ]
  },
  {
   "cell_type": "code",
   "execution_count": 4,
   "metadata": {},
   "outputs": [],
   "source": [
    "def clean_dataframe(df):\n",
    "    # Transformations here.\n",
    "    new_df = df.copy() \n",
    "    new_df = new_df.drop(columns=['Name', 'Ticket', 'Cabin'])\n",
    "\n",
    "    new_df['Age'] = new_df['Age'].fillna(new_df.Age.median())\n",
    "    \n",
    "    new_df = pd.get_dummies(new_df, columns=['Sex', 'Embarked', 'Pclass'])\n",
    "    new_df = pd.DataFrame(minmax_scale(new_df), columns=new_df.columns)\n",
    "\n",
    "    return new_df\n",
    "\n",
    "def test_data(test_df, ans_df):\n",
    "    # For local testing so I don't have to submit all the time.\n",
    "    correct = 0\n",
    "    total = 0 \n",
    "    for index, row in test_df.iterrows():\n",
    "        if row['PassengerId'] in ans_df['PassengerId'].values:\n",
    "            if ans_df.loc()[ans_df['PassengerId'] == row['PassengerId']].iloc[0]['Survived'] == row['Survived']:\n",
    "                correct = correct +1\n",
    "        total += 1 \n",
    "    return \"{} out of {} for a % of {}\".format(correct, total, correct/total)"
   ]
  },
  {
   "cell_type": "code",
   "execution_count": 5,
   "metadata": {
    "scrolled": true
   },
   "outputs": [],
   "source": [
    "clean_data = clean_dataframe(df)\n",
    "labels = clean_data['Survived'].copy()\n",
    "corr_matrix = clean_data.corr()\n",
    "clean_data = clean_data.drop(columns=['Survived', 'PassengerId'])\n",
    "X_train, X_test, y_train, y_test = train_test_split(clean_data, labels, random_state=42)"
   ]
  },
  {
   "cell_type": "code",
   "execution_count": 6,
   "metadata": {},
   "outputs": [
    {
     "data": {
      "text/plain": [
       "Survived       1.000000\n",
       "Sex_female     0.543351\n",
       "Pclass_1       0.285904\n",
       "Fare           0.257307\n",
       "Embarked_C     0.168240\n",
       "Pclass_2       0.093349\n",
       "Parch          0.081629\n",
       "Embarked_Q     0.003650\n",
       "PassengerId   -0.005007\n",
       "SibSp         -0.035322\n",
       "Age           -0.064910\n",
       "Embarked_S    -0.155660\n",
       "Pclass_3      -0.322308\n",
       "Sex_male      -0.543351\n",
       "Name: Survived, dtype: float64"
      ]
     },
     "execution_count": 6,
     "metadata": {},
     "output_type": "execute_result"
    }
   ],
   "source": [
    "corr_matrix['Survived'].sort_values(ascending=False)"
   ]
  },
  {
   "cell_type": "code",
   "execution_count": 9,
   "metadata": {},
   "outputs": [
    {
     "data": {
      "text/plain": [
       "1.0"
      ]
     },
     "execution_count": 9,
     "metadata": {},
     "output_type": "execute_result"
    }
   ],
   "source": [
    "gbc = GradientBoostingClassifier()\n",
    "gbc.fit(X_train, y_train)\n",
    "model = gbc\n",
    "gbc.predict([clean_data.iloc[1]])[0] "
   ]
  },
  {
   "cell_type": "code",
   "execution_count": 7,
   "metadata": {},
   "outputs": [
    {
     "name": "stdout",
     "output_type": "stream",
     "text": [
      "Fitting 5 folds for each of 25 candidates, totalling 125 fits\n"
     ]
    },
    {
     "name": "stderr",
     "output_type": "stream",
     "text": [
      "[Parallel(n_jobs=-1)]: Using backend LokyBackend with 8 concurrent workers.\n",
      "[Parallel(n_jobs=-1)]: Done  25 tasks      | elapsed:   14.6s\n",
      "[Parallel(n_jobs=-1)]: Done 125 out of 125 | elapsed:  1.2min finished\n"
     ]
    }
   ],
   "source": [
    "gbc = GradientBoostingClassifier()\n",
    "# hyper parameter optimization\n",
    "param_grid = {'max_depth': [3, 4, 6, 8, 10, None],\n",
    " 'learning_rate': [.01, .1, 1, 10],\n",
    " 'n_estimators': [200, 400, 600, 800, 1000]}\n",
    "\n",
    "gbc_search = RandomizedSearchCV(gbc, cv=5, param_distributions=param_grid, scoring='neg_mean_squared_error',\n",
    "                            n_iter=25, verbose=2, n_jobs=-1)\n",
    "gbc_search.fit(X_train, y_train)\n",
    "gbc_search.predict([clean_data.iloc[1]])[0]\n",
    "hpo_model = gbc_search\n",
    "# Mmmm, MSE is pretty low, but idk. might be the best?\n",
    "# 82.5 test, and the best MSE as well."
   ]
  },
  {
   "cell_type": "code",
   "execution_count": 19,
   "metadata": {},
   "outputs": [
    {
     "name": "stdout",
     "output_type": "stream",
     "text": [
      "Fitting 5 folds for each of 25 candidates, totalling 125 fits\n"
     ]
    },
    {
     "name": "stderr",
     "output_type": "stream",
     "text": [
      "[Parallel(n_jobs=-1)]: Using backend LokyBackend with 8 concurrent workers.\n",
      "[Parallel(n_jobs=-1)]: Done  25 tasks      | elapsed:    5.1s\n",
      "[Parallel(n_jobs=-1)]: Done 125 out of 125 | elapsed:   24.7s finished\n"
     ]
    }
   ],
   "source": [
    "forest_reg = RandomForestClassifier()\n",
    "\n",
    "# hyper parameter optimization\n",
    "param_grid = {'bootstrap': [True, False],\n",
    " 'max_depth': [3, 4, 6, 8, 10, None],\n",
    " 'max_features': ['auto', 'sqrt'],\n",
    " 'min_samples_leaf': [1, 2],\n",
    " 'min_samples_split': [2, 5],\n",
    " 'n_estimators': [200, 400, 600, 800, 1000]}\n",
    "\n",
    "r_search = RandomizedSearchCV(forest_reg, cv=5, param_distributions=param_grid, scoring='neg_mean_squared_error',\n",
    "                            n_iter=25, verbose=2, n_jobs=-1)\n",
    "r_search.fit(X_train, y_train)\n",
    "r_search.predict([clean_data.iloc[1]])[0]\n",
    "forest_model = r_search"
   ]
  },
  {
   "cell_type": "code",
   "execution_count": null,
   "metadata": {},
   "outputs": [],
   "source": [
    "knn = KNeighborsClassifier(n_neighbors=2) # can play with this a bit.\n",
    "knn.fit(X_train,y_train)\n",
    "model = knn\n",
    "knn.predict([clean_data.iloc[1]])[0] # sanity check"
   ]
  },
  {
   "cell_type": "code",
   "execution_count": 26,
   "metadata": {},
   "outputs": [],
   "source": [
    "comp_df = pd.read_csv('./data/test.csv', engine='python')\n",
    "comp_df_passengerId = comp_df['PassengerId'].copy()\n",
    "comp_clean_df = clean_dataframe(comp_df)\n",
    "comp_clean_df['Fare'] = comp_clean_df['Fare'].fillna(comp_clean_df.Fare.median())\n",
    "comp_clean_df = comp_clean_df.drop(columns=['PassengerId'])\n",
    "comp_clean_df['Survived'] = comp_clean_df.apply(lambda row: model.predict([row])[0], axis=1)\n",
    "#comp_clean_df['Survived'] = comp_clean_df.apply(lambda row: hpo_model.predict([row])[0], axis=1)\n",
    "#comp_clean_df['Survived'] = comp_clean_df.apply(lambda row: forest_model.predict([row])[0], axis=1)\n",
    "final_df = pd.DataFrame(list(zip(comp_df_passengerId, comp_clean_df['Survived'])),columns=['PassengerId', 'Survived'])"
   ]
  },
  {
   "cell_type": "code",
   "execution_count": 27,
   "metadata": {},
   "outputs": [],
   "source": [
    "final_df.to_csv('output_gbc.csv', index=False)\n",
    "#!kaggle competitions submit -c titanic -f ./output.csv"
   ]
  },
  {
   "cell_type": "code",
   "execution_count": 21,
   "metadata": {},
   "outputs": [
    {
     "name": "stdout",
     "output_type": "stream",
     "text": [
      "308 out of 418 for a % of 0.7368421052631579\n"
     ]
    }
   ],
   "source": [
    "# To see if it should be better before submitting.\n",
    "ans_df = pd.read_csv('./data/answers.csv', engine='python')\n",
    "ans_df = ans_df.rename({1: 'PassengerId', 2:'Survived'}, axis='columns')\n",
    "\n",
    "test_df = comp_df.merge(ans_df, left_on=\"Name\", right_on=\"name\")\n",
    "test_df_only_survived = test_df[['survived', 'PassengerId']].copy()\n",
    "test_df_only = test_df_only_survived.rename({'survived': 'Survived'}, axis='columns')\n",
    "ans_df = test_df_only\n",
    "ans_df = ans_df.drop(1) # Something weird happens and we have to drop this one.\n",
    "print(test_data(final_df, ans_df))\n",
    "#ans_df = ans_df[ans_df['name'] == tr_og_df['Name']]\n",
    "\n",
    "#ans_df.drop(ans_df.index[0:892], inplace=True) # We can't do this as test is not sorted.\n",
    "#final_df = final_df.drop([417], axis=\"index\") # We have to do this before testing for some reason."
   ]
  },
  {
   "cell_type": "code",
   "execution_count": 25,
   "metadata": {},
   "outputs": [
    {
     "name": "stdout",
     "output_type": "stream",
     "text": [
      "0.9086826347305389, 0.8251121076233184\n"
     ]
    }
   ],
   "source": [
    "print(\"{}, {}\".format(model.score(X_train, y_train), model.score(X_test, y_test))) \n",
    "# even our training data model can't get a ton right.\n",
    "# C is huge, so what does this mean? it means we should be overfitting, but we're not. Do we need a \n",
    "# more complex model?"
   ]
  },
  {
   "cell_type": "code",
   "execution_count": null,
   "metadata": {},
   "outputs": [],
   "source": [
    "mean_squared_error(model.predict(X_test), y_test)"
   ]
  },
  {
   "cell_type": "code",
   "execution_count": null,
   "metadata": {},
   "outputs": [],
   "source": []
  }
 ],
 "metadata": {
  "kernelspec": {
   "display_name": "Python 3",
   "language": "python",
   "name": "python3"
  },
  "language_info": {
   "codemirror_mode": {
    "name": "ipython",
    "version": 3
   },
   "file_extension": ".py",
   "mimetype": "text/x-python",
   "name": "python",
   "nbconvert_exporter": "python",
   "pygments_lexer": "ipython3",
   "version": "3.6.10"
  }
 },
 "nbformat": 4,
 "nbformat_minor": 2
}
